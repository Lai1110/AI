{
  "nbformat": 4,
  "nbformat_minor": 0,
  "metadata": {
    "colab": {
      "name": "Untitled4.ipynb",
      "provenance": []
    },
    "kernelspec": {
      "name": "python3",
      "display_name": "Python 3"
    }
  },
  "cells": [
    {
      "cell_type": "code",
      "metadata": {
        "id": "Hi9HFteBkwt8",
        "colab_type": "code",
        "colab": {
          "base_uri": "https://localhost:8080/",
          "height": 507
        },
        "outputId": "722d2531-e811-4dd4-c6b1-8b1213245785"
      },
      "source": [
        "import keras\n",
        "from keras.models import Sequential\n",
        "from keras.layers import Dense\n",
        "\n",
        "import numpy as np\n",
        "data = np.random.random((1000, 10)) #隨機產生1000筆資料，每筆資料1包含十個float數字\n",
        "labels = np.random.randint(2, size=(1000, 1)) #隨機產生1000筆資料，每筆資料上限為2(意思就是0 或 1)\n",
        "print(np.shape(data))\n",
        "print(data[0])\n",
        "print(np.shape(labels))\n",
        "print(labels[0])\n",
        "\n",
        "model = Sequential()\n",
        "model.add(Dense(32, activation='relu', input_dim=10))\n",
        "model.add(Dense(1, activation='sigmoid'))\n",
        "model.compile(optimizer='rmsprop', loss='binary_crossentropy', metrics=['accuracy'])\n",
        "\n",
        "model.fit(data, labels, epochs=10, batch_size=32)\n",
        "\n",
        "score=model.evaluate(data, labels)\n",
        "print(score[1])"
      ],
      "execution_count": 1,
      "outputs": [
        {
          "output_type": "stream",
          "text": [
            "Using TensorFlow backend.\n"
          ],
          "name": "stderr"
        },
        {
          "output_type": "stream",
          "text": [
            "(1000, 10)\n",
            "[0.29081986 0.17570071 0.15232726 0.15265136 0.39990391 0.01163068\n",
            " 0.2369935  0.38801046 0.39996767 0.05111436]\n",
            "(1000, 1)\n",
            "[1]\n",
            "Epoch 1/10\n",
            "1000/1000 [==============================] - 0s 259us/step - loss: 0.7030 - accuracy: 0.4890\n",
            "Epoch 2/10\n",
            "1000/1000 [==============================] - 0s 34us/step - loss: 0.7001 - accuracy: 0.4740\n",
            "Epoch 3/10\n",
            "1000/1000 [==============================] - 0s 34us/step - loss: 0.6992 - accuracy: 0.5070\n",
            "Epoch 4/10\n",
            "1000/1000 [==============================] - 0s 32us/step - loss: 0.6964 - accuracy: 0.5130\n",
            "Epoch 5/10\n",
            "1000/1000 [==============================] - 0s 33us/step - loss: 0.6967 - accuracy: 0.5000\n",
            "Epoch 6/10\n",
            "1000/1000 [==============================] - 0s 33us/step - loss: 0.6954 - accuracy: 0.4980\n",
            "Epoch 7/10\n",
            "1000/1000 [==============================] - 0s 33us/step - loss: 0.6950 - accuracy: 0.4920\n",
            "Epoch 8/10\n",
            "1000/1000 [==============================] - 0s 32us/step - loss: 0.6944 - accuracy: 0.5090\n",
            "Epoch 9/10\n",
            "1000/1000 [==============================] - 0s 33us/step - loss: 0.6939 - accuracy: 0.5050\n",
            "Epoch 10/10\n",
            "1000/1000 [==============================] - 0s 39us/step - loss: 0.6935 - accuracy: 0.5170\n",
            "1000/1000 [==============================] - 0s 33us/step\n",
            "0.5\n"
          ],
          "name": "stdout"
        }
      ]
    }
  ]
}