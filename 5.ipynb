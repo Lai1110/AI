{
  "nbformat": 4,
  "nbformat_minor": 0,
  "metadata": {
    "colab": {
      "name": "Untitled11.ipynb",
      "provenance": []
    },
    "kernelspec": {
      "name": "python3",
      "display_name": "Python 3"
    }
  },
  "cells": [
    {
      "cell_type": "code",
      "metadata": {
        "id": "n6q18FU8zO-s",
        "colab_type": "code",
        "colab": {
          "base_uri": "https://localhost:8080/",
          "height": 776
        },
        "outputId": "113924c4-e84f-42dd-92e4-3caf91b80d0b"
      },
      "source": [
        "import keras\n",
        "from keras.datasets import mnist\n",
        "from keras.models import Sequential\n",
        "from keras.layers import Dense, Dropout, LeakyReLU, Conv2D\n",
        "from keras.optimizers import RMSprop\n",
        "from keras.utils import np_utils\n",
        "import numpy as np\n",
        "\n",
        "(x_train, y_train), (x_test, y_test) = mnist.load_data()\n",
        "num_classes = 10\n",
        "\n",
        "x_train = x_train.reshape(60000, 784)\n",
        "x_test = x_test.reshape(10000, 784)\n",
        "x_train = x_train.astype('float32')\n",
        "x_test = x_test.astype('float32')\n",
        "x_train /= 255\n",
        "x_test /= 255\n",
        "print(x_train.shape[0], 'train samples')\n",
        "print(x_test.shape[0], 'test samples')\n",
        "y_train = keras.utils.to_categorical(y_train, num_classes)\n",
        "y_test = keras.utils.to_categorical(y_test, num_classes)\n",
        "\n",
        "model = Sequential()\n",
        "model.add(Dense(20, activation=LeakyReLU(), input_shape=(784,)))\n",
        "model.add(Dense(20, activation=LeakyReLU()))\n",
        "model.add(Dense(10, activation='softmax'))\n",
        "model.summary()\n",
        "\n",
        "model.compile(loss='categorical_crossentropy',\n",
        "              optimizer=RMSprop(),\n",
        "              metrics=['accuracy'])\n",
        "\n",
        "history = model.fit(x_train, y_train,\n",
        "                    batch_size=128,\n",
        "                    epochs=10,\n",
        "                    verbose=1,\n",
        "                    validation_data=(x_test, y_test))\n",
        "\n",
        "scores = model.evaluate(x_test, y_test)\n",
        "print(scores[1])"
      ],
      "execution_count": 1,
      "outputs": [
        {
          "output_type": "stream",
          "text": [
            "Using TensorFlow backend.\n"
          ],
          "name": "stderr"
        },
        {
          "output_type": "stream",
          "text": [
            "Downloading data from https://s3.amazonaws.com/img-datasets/mnist.npz\n",
            "11493376/11490434 [==============================] - 2s 0us/step\n",
            "60000 train samples\n",
            "10000 test samples\n",
            "Model: \"sequential_1\"\n",
            "_________________________________________________________________\n",
            "Layer (type)                 Output Shape              Param #   \n",
            "=================================================================\n",
            "dense_1 (Dense)              (None, 20)                15700     \n",
            "_________________________________________________________________\n",
            "dense_2 (Dense)              (None, 20)                420       \n",
            "_________________________________________________________________\n",
            "dense_3 (Dense)              (None, 10)                210       \n",
            "=================================================================\n",
            "Total params: 16,330\n",
            "Trainable params: 16,330\n",
            "Non-trainable params: 0\n",
            "_________________________________________________________________\n"
          ],
          "name": "stdout"
        },
        {
          "output_type": "stream",
          "text": [
            "/usr/local/lib/python3.6/dist-packages/keras/activations.py:235: UserWarning: Do not pass a layer instance (such as LeakyReLU) as the activation argument of another layer. Instead, advanced activation layers should be used just like any other layer in a model.\n",
            "  identifier=identifier.__class__.__name__))\n"
          ],
          "name": "stderr"
        },
        {
          "output_type": "stream",
          "text": [
            "Train on 60000 samples, validate on 10000 samples\n",
            "Epoch 1/10\n",
            "60000/60000 [==============================] - 1s 20us/step - loss: 0.5626 - accuracy: 0.8421 - val_loss: 0.3031 - val_accuracy: 0.9132\n",
            "Epoch 2/10\n",
            "60000/60000 [==============================] - 1s 17us/step - loss: 0.2821 - accuracy: 0.9191 - val_loss: 0.2593 - val_accuracy: 0.9236\n",
            "Epoch 3/10\n",
            "60000/60000 [==============================] - 1s 17us/step - loss: 0.2454 - accuracy: 0.9296 - val_loss: 0.2377 - val_accuracy: 0.9274\n",
            "Epoch 4/10\n",
            "60000/60000 [==============================] - 1s 17us/step - loss: 0.2207 - accuracy: 0.9366 - val_loss: 0.2091 - val_accuracy: 0.9388\n",
            "Epoch 5/10\n",
            "60000/60000 [==============================] - 1s 16us/step - loss: 0.1999 - accuracy: 0.9421 - val_loss: 0.2000 - val_accuracy: 0.9400\n",
            "Epoch 6/10\n",
            "60000/60000 [==============================] - 1s 17us/step - loss: 0.1839 - accuracy: 0.9468 - val_loss: 0.1844 - val_accuracy: 0.9461\n",
            "Epoch 7/10\n",
            "60000/60000 [==============================] - 1s 17us/step - loss: 0.1711 - accuracy: 0.9501 - val_loss: 0.1751 - val_accuracy: 0.9485\n",
            "Epoch 8/10\n",
            "60000/60000 [==============================] - 1s 17us/step - loss: 0.1614 - accuracy: 0.9525 - val_loss: 0.1625 - val_accuracy: 0.9514\n",
            "Epoch 9/10\n",
            "60000/60000 [==============================] - 1s 17us/step - loss: 0.1523 - accuracy: 0.9550 - val_loss: 0.1677 - val_accuracy: 0.9498\n",
            "Epoch 10/10\n",
            "60000/60000 [==============================] - 1s 16us/step - loss: 0.1456 - accuracy: 0.9566 - val_loss: 0.1568 - val_accuracy: 0.9536\n",
            "10000/10000 [==============================] - 0s 19us/step\n",
            "0.9535999894142151\n"
          ],
          "name": "stdout"
        }
      ]
    }
  ]
}