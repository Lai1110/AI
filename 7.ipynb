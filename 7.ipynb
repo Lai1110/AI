{
  "nbformat": 4,
  "nbformat_minor": 0,
  "metadata": {
    "colab": {
      "name": "Untitled1.ipynb",
      "provenance": [],
      "collapsed_sections": []
    },
    "kernelspec": {
      "name": "python3",
      "display_name": "Python 3"
    },
    "accelerator": "GPU"
  },
  "cells": [
    {
      "cell_type": "code",
      "metadata": {
        "id": "U65DwOxBLC07",
        "colab_type": "code",
        "colab": {
          "base_uri": "https://localhost:8080/",
          "height": 1000
        },
        "outputId": "afcc63b8-94f4-4e09-f428-5db3d06562ae"
      },
      "source": [
        "from keras.datasets import cifar10\n",
        "\n",
        "(x_train, y_train_), (x_test, y_test_) = cifar10.load_data()\n",
        "\n",
        "x_train = x_train.astype('float32') / 255\n",
        "x_test = x_test.astype('float32') / 255\n",
        "\n",
        "from keras.utils import to_categorical\n",
        "y_train = to_categorical(y_train_)\n",
        "y_test = to_categorical(y_test_)\n",
        "\n",
        "\"\"\"## Model Definition\"\"\"\n",
        "\n",
        "from keras.models import Sequential\n",
        "model = Sequential()\n",
        "\n",
        "from keras.layers import Conv2D, MaxPool2D, Flatten, Dense\n",
        "\n",
        "model.add(Conv2D(filters=32, \n",
        "                kernel_size=(3, 3),\n",
        "                activation='relu',\n",
        "                input_shape=(32, 32, 3)))\n",
        "\n",
        "model.add(MaxPool2D())\n",
        "\n",
        "model.add(Conv2D(filters=64,\n",
        "                kernel_size=(3, 3),\n",
        "                activation='relu'))\n",
        "model.add(MaxPool2D())\n",
        "\n",
        "model.add(Flatten())\n",
        "model.add(Dense(10, activation='softmax'))\n",
        "\n",
        "model.compile(optimizer='adam',\n",
        "             loss='categorical_crossentropy',\n",
        "             metrics=['accuracy'])\n",
        "\n",
        "print(model.summary())\n",
        "\n",
        "\"\"\"## Fitting\"\"\"\n",
        "\n",
        "history = model.fit(x_train, y_train, batch_size=50, epochs=15, verbose=1, validation_data=(x_test, y_test))\n",
        "\n",
        "import matplotlib.pyplot as plt\n",
        "\n",
        "history_dict = history.history\n",
        "loss_values = history_dict['loss']\n",
        "val_loss_values = history_dict['val_loss']\n",
        "\n",
        "epochs = range(1, len(history_dict['accuracy']) + 1)\n",
        "\n",
        "plt.plot(epochs, loss_values, 'bo', label='Training loss')\n",
        "plt.plot(epochs, val_loss_values, 'b', label='Validation loss')\n",
        "plt.title('Training and validation loss')\n",
        "plt.xlabel('Epochs')\n",
        "plt.ylabel('Loss')\n",
        "plt.legend()\n",
        "\n",
        "plt.show()"
      ],
      "execution_count": 6,
      "outputs": [
        {
          "output_type": "stream",
          "text": [
            "Model: \"sequential_5\"\n",
            "_________________________________________________________________\n",
            "Layer (type)                 Output Shape              Param #   \n",
            "=================================================================\n",
            "conv2d_10 (Conv2D)           (None, 30, 30, 32)        896       \n",
            "_________________________________________________________________\n",
            "max_pooling2d_5 (MaxPooling2 (None, 15, 15, 32)        0         \n",
            "_________________________________________________________________\n",
            "conv2d_11 (Conv2D)           (None, 13, 13, 64)        18496     \n",
            "_________________________________________________________________\n",
            "max_pooling2d_6 (MaxPooling2 (None, 6, 6, 64)          0         \n",
            "_________________________________________________________________\n",
            "flatten_2 (Flatten)          (None, 2304)              0         \n",
            "_________________________________________________________________\n",
            "dense_7 (Dense)              (None, 10)                23050     \n",
            "=================================================================\n",
            "Total params: 42,442\n",
            "Trainable params: 42,442\n",
            "Non-trainable params: 0\n",
            "_________________________________________________________________\n",
            "None\n",
            "Train on 50000 samples, validate on 10000 samples\n",
            "Epoch 1/15\n",
            "50000/50000 [==============================] - 9s 181us/step - loss: 1.5267 - accuracy: 0.4562 - val_loss: 1.2666 - val_accuracy: 0.5543\n",
            "Epoch 2/15\n",
            "50000/50000 [==============================] - 9s 178us/step - loss: 1.1841 - accuracy: 0.5872 - val_loss: 1.0814 - val_accuracy: 0.6270\n",
            "Epoch 3/15\n",
            "50000/50000 [==============================] - 9s 179us/step - loss: 1.0392 - accuracy: 0.6411 - val_loss: 1.0365 - val_accuracy: 0.6420\n",
            "Epoch 4/15\n",
            "50000/50000 [==============================] - 9s 179us/step - loss: 0.9600 - accuracy: 0.6692 - val_loss: 0.9955 - val_accuracy: 0.6549\n",
            "Epoch 5/15\n",
            "50000/50000 [==============================] - 9s 179us/step - loss: 0.9042 - accuracy: 0.6900 - val_loss: 0.9640 - val_accuracy: 0.6709\n",
            "Epoch 6/15\n",
            "50000/50000 [==============================] - 9s 180us/step - loss: 0.8605 - accuracy: 0.7048 - val_loss: 0.9433 - val_accuracy: 0.6769\n",
            "Epoch 7/15\n",
            "50000/50000 [==============================] - 9s 180us/step - loss: 0.8235 - accuracy: 0.7191 - val_loss: 0.9743 - val_accuracy: 0.6724\n",
            "Epoch 8/15\n",
            "50000/50000 [==============================] - 9s 178us/step - loss: 0.7925 - accuracy: 0.7276 - val_loss: 0.9075 - val_accuracy: 0.6895\n",
            "Epoch 9/15\n",
            "50000/50000 [==============================] - 9s 178us/step - loss: 0.7643 - accuracy: 0.7367 - val_loss: 0.9052 - val_accuracy: 0.6925\n",
            "Epoch 10/15\n",
            "50000/50000 [==============================] - 9s 180us/step - loss: 0.7443 - accuracy: 0.7468 - val_loss: 0.9026 - val_accuracy: 0.6956\n",
            "Epoch 11/15\n",
            "50000/50000 [==============================] - 9s 180us/step - loss: 0.7197 - accuracy: 0.7547 - val_loss: 0.9038 - val_accuracy: 0.6975\n",
            "Epoch 12/15\n",
            "50000/50000 [==============================] - 9s 178us/step - loss: 0.7018 - accuracy: 0.7594 - val_loss: 0.8855 - val_accuracy: 0.7018\n",
            "Epoch 13/15\n",
            "50000/50000 [==============================] - 9s 178us/step - loss: 0.6831 - accuracy: 0.7670 - val_loss: 0.8981 - val_accuracy: 0.6999\n",
            "Epoch 14/15\n",
            "50000/50000 [==============================] - 9s 179us/step - loss: 0.6674 - accuracy: 0.7714 - val_loss: 0.8863 - val_accuracy: 0.7063\n",
            "Epoch 15/15\n",
            "50000/50000 [==============================] - 9s 178us/step - loss: 0.6539 - accuracy: 0.7744 - val_loss: 0.8978 - val_accuracy: 0.7080\n"
          ],
          "name": "stdout"
        },
        {
          "output_type": "display_data",
          "data": {
            "image/png": "[encoded data removed]",
            "text/plain": [
              "<Figure size 432x288 with 1 Axes>"
            ]
          },
          "metadata": {
            "tags": [],
            "needs_background": "light"
          }
        }
      ]
    }
  ]
}