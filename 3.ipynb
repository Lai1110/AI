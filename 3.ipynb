{
  "nbformat": 4,
  "nbformat_minor": 0,
  "metadata": {
    "colab": {
      "name": "Untitled5.ipynb",
      "provenance": []
    },
    "kernelspec": {
      "name": "python3",
      "display_name": "Python 3"
    },
    "accelerator": "GPU"
  },
  "cells": [
    {
      "cell_type": "code",
      "metadata": {
        "id": "-uQWJMg0niLa",
        "colab_type": "code",
        "colab": {
          "base_uri": "https://localhost:8080/",
          "height": 759
        },
        "outputId": "ee0cb33c-22a3-4bed-ac83-fa569d75c150"
      },
      "source": [
        "import keras\n",
        "from keras.models import Sequential\n",
        "from keras.layers import Dense, Dropout, Activation\n",
        "from keras.optimizers import SGD\n",
        "\n",
        "# Generate dummy data\n",
        "import numpy as np\n",
        "x_train = np.random.random((1000, 10))\n",
        "y_train = keras.utils.to_categorical(np.random.randint(10, size=(1000, 1)), num_classes=10)\n",
        "x_test = np.random.random((100, 10))\n",
        "y_test = keras.utils.to_categorical(np.random.randint(10, size=(100, 1)), num_classes=10)\n",
        "\n",
        "model = Sequential()\n",
        "model.add(Dense(64, activation='relu', input_dim=10))\n",
        "model.add(Dense(64, activation='relu'))\n",
        "model.add(Dense(10, activation='softmax'))\n",
        "sgd = SGD(lr=0.01, decay=1e-6, momentum=0.9, nesterov=True)\n",
        "model.compile(loss='categorical_crossentropy', optimizer=sgd, metrics=['accuracy'])\n",
        "\n",
        "model.fit(x_train, y_train, epochs=20, batch_size=128)\n",
        "score = model.evaluate(x_test, y_test, batch_size=128)\n",
        "print(score)"
      ],
      "execution_count": 1,
      "outputs": [
        {
          "output_type": "stream",
          "text": [
            "Using TensorFlow backend.\n"
          ],
          "name": "stderr"
        },
        {
          "output_type": "stream",
          "text": [
            "Epoch 1/20\n",
            "1000/1000 [==============================] - 0s 217us/step - loss: 2.3208 - accuracy: 0.1120\n",
            "Epoch 2/20\n",
            "1000/1000 [==============================] - 0s 16us/step - loss: 2.3110 - accuracy: 0.1170\n",
            "Epoch 3/20\n",
            "1000/1000 [==============================] - 0s 15us/step - loss: 2.3036 - accuracy: 0.1140\n",
            "Epoch 4/20\n",
            "1000/1000 [==============================] - 0s 15us/step - loss: 2.2983 - accuracy: 0.1070\n",
            "Epoch 5/20\n",
            "1000/1000 [==============================] - 0s 15us/step - loss: 2.2956 - accuracy: 0.1160\n",
            "Epoch 6/20\n",
            "1000/1000 [==============================] - 0s 15us/step - loss: 2.2938 - accuracy: 0.1240\n",
            "Epoch 7/20\n",
            "1000/1000 [==============================] - 0s 15us/step - loss: 2.2921 - accuracy: 0.1350\n",
            "Epoch 8/20\n",
            "1000/1000 [==============================] - 0s 15us/step - loss: 2.2908 - accuracy: 0.1340\n",
            "Epoch 9/20\n",
            "1000/1000 [==============================] - 0s 15us/step - loss: 2.2897 - accuracy: 0.1320\n",
            "Epoch 10/20\n",
            "1000/1000 [==============================] - 0s 15us/step - loss: 2.2887 - accuracy: 0.1340\n",
            "Epoch 11/20\n",
            "1000/1000 [==============================] - 0s 15us/step - loss: 2.2878 - accuracy: 0.1320\n",
            "Epoch 12/20\n",
            "1000/1000 [==============================] - 0s 14us/step - loss: 2.2866 - accuracy: 0.1350\n",
            "Epoch 13/20\n",
            "1000/1000 [==============================] - 0s 16us/step - loss: 2.2858 - accuracy: 0.1360\n",
            "Epoch 14/20\n",
            "1000/1000 [==============================] - 0s 18us/step - loss: 2.2851 - accuracy: 0.1350\n",
            "Epoch 15/20\n",
            "1000/1000 [==============================] - 0s 15us/step - loss: 2.2842 - accuracy: 0.1320\n",
            "Epoch 16/20\n",
            "1000/1000 [==============================] - 0s 15us/step - loss: 2.2833 - accuracy: 0.1320\n",
            "Epoch 17/20\n",
            "1000/1000 [==============================] - 0s 15us/step - loss: 2.2826 - accuracy: 0.1330\n",
            "Epoch 18/20\n",
            "1000/1000 [==============================] - 0s 17us/step - loss: 2.2816 - accuracy: 0.1310\n",
            "Epoch 19/20\n",
            "1000/1000 [==============================] - 0s 14us/step - loss: 2.2810 - accuracy: 0.1320\n",
            "Epoch 20/20\n",
            "1000/1000 [==============================] - 0s 14us/step - loss: 2.2803 - accuracy: 0.1300\n",
            "100/100 [==============================] - 0s 250us/step\n",
            "[2.3243966102600098, 0.07000000029802322]\n"
          ],
          "name": "stdout"
        }
      ]
    }
  ]
}